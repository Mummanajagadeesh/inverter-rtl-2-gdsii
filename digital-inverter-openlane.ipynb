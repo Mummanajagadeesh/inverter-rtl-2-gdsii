{
  "cells": [
    {
      "cell_type": "markdown",
      "metadata": {
        "id": "view-in-github",
        "colab_type": "text"
      },
      "source": [
        "<a href=\"https://colab.research.google.com/github/Mummanajagadeesh/inverter-rtl-2-gdsii/blob/main/digital-inverter-openlane.ipynb\" target=\"_parent\"><img src=\"https://colab.research.google.com/assets/colab-badge.svg\" alt=\"Open In Colab\"/></a>"
      ]
    },
    {
      "cell_type": "markdown",
      "metadata": {
        "id": "HkFeU0R-0hzi"
      },
      "source": [
        "# Digital inverter with OpenLane\n",
        "\n",
        "```\n",
        "Copyright 2022 Google LLC.\n",
        "SPDX-License-Identifier: Apache-2.0\n",
        "```\n",
        "\n",
        "Run a simple digital inverter design thru the [OpenLane](https://github.com/The-OpenROAD-Project/OpenLane/) GDS to RTL flow targeting the [open source SKY130 PDK](https://github.com/google/skywater-pdk/)."
      ]
    },
    {
      "cell_type": "code",
      "execution_count": 1,
      "metadata": {
        "id": "NC__X6Jph4CU",
        "outputId": "23adda0c-5704-42d9-8963-7be4cd9b063b",
        "colab": {
          "base_uri": "https://localhost:8080/"
        }
      },
      "outputs": [
        {
          "output_type": "stream",
          "name": "stdout",
          "text": [
            "Empty environment created at prefix: /content/conda-env\n",
            "\n",
            "Pinned packages:\n",
            "\n",
            "  - python==3.7*\n",
            "\n",
            "\n",
            "Transaction\n",
            "\n",
            "  Prefix: /content/conda-env\n",
            "\n",
            "  Updating specs:\n",
            "\n",
            "   - openlane\n",
            "   - open_pdks.sky130a\n",
            "\n",
            "\n",
            "  Package                                                Version  Build                 Channel        Size\n",
            "─────────────────────────────────────────────────────────────────────────────────────────────────────────────\n",
            "  Install:\n",
            "─────────────────────────────────────────────────────────────────────────────────────────────────────────────\n",
            "\n",
            "  \u001b[32m+ _libgcc_mutex                       \u001b[0m                     0.1  main                  main            3kB\n",
            "  \u001b[32m+ _openmp_mutex                       \u001b[0m                     5.1  1_gnu                 main           21kB\n",
            "  \u001b[32m+ _sysroot_linux-64_curr_repodata_hack\u001b[0m                       3  haa98f57_10           main           13kB\n",
            "  \u001b[32m+ binutils_impl_linux-64              \u001b[0m                    2.40  h5293946_0            main           15MB\n",
            "  \u001b[32m+ binutils_linux-64                   \u001b[0m                  2.40.0  hc2dff05_2            main           23kB\n",
            "  \u001b[32m+ bison                               \u001b[0m                   3.7.5  h2531618_1            main          806kB\n",
            "  \u001b[32m+ bzip2                               \u001b[0m                   1.0.8  h5eee18b_6            main          428kB\n",
            "  \u001b[32m+ c-ares                              \u001b[0m                  1.34.5  hef5626c_0            main          211kB\n",
            "  \u001b[32m+ ca-certificates                     \u001b[0m                2025.9.9  h06a4308_0            main          136kB\n",
            "  \u001b[32m+ cairo                               \u001b[0m                  1.18.4  h44eff21_0            main          728kB\n",
            "  \u001b[32m+ certifi                             \u001b[0m               2022.12.7  py37h06a4308_0        main          155kB\n",
            "  \u001b[32m+ click                               \u001b[0m                   8.0.4  py37h06a4308_0        main          152kB\n",
            "  \u001b[32m+ curl                                \u001b[0m                   8.2.1  h37d81fd_0            main           89kB\n",
            "  \u001b[32m+ dbus                                \u001b[0m                  1.16.2  h5bd4931_0            main            1MB\n",
            "  \u001b[32m+ expat                               \u001b[0m                   2.7.1  h6a678d5_0            main          203kB\n",
            "  \u001b[32m+ flex                                \u001b[0m                   2.6.4  ha10e3a4_1            main          343kB\n",
            "  \u001b[32m+ flit-core                           \u001b[0m                   3.6.0  pyhd3eb1b0_0          main           43kB\n",
            "  \u001b[32m+ fmt                                 \u001b[0m                   8.1.1  hd09550d_1            main          182kB\n",
            "  \u001b[32m+ fontconfig                          \u001b[0m                  2.14.1  h52c9d5c_1            main          363kB\n",
            "  \u001b[32m+ freetype                            \u001b[0m                  2.13.3  h4a9f257_0            main          966kB\n",
            "  \u001b[32m+ gcc_impl_linux-64                   \u001b[0m                  11.2.0  h1234567_1            main           54MB\n",
            "  \u001b[32m+ gcc_linux-64                        \u001b[0m                  11.2.0  h5c386dc_2            main           24kB\n",
            "  \u001b[32m+ glib                                \u001b[0m                  2.84.2  h6a678d5_0            main          525kB\n",
            "  \u001b[32m+ glib-tools                          \u001b[0m                  2.84.2  h6a678d5_0            main          117kB\n",
            "  \u001b[32m+ gmp                                 \u001b[0m                   6.3.0  h6a678d5_0            main          831kB\n",
            "  \u001b[32m+ gst-plugins-base                    \u001b[0m                  1.14.1  h6a678d5_1            main            2MB\n",
            "  \u001b[32m+ gstreamer                           \u001b[0m                  1.14.1  h5eee18b_1            main            2MB\n",
            "  \u001b[32m+ gxx_impl_linux-64                   \u001b[0m                  11.2.0  h1234567_1            main           13MB\n",
            "  \u001b[32m+ gxx_linux-64                        \u001b[0m                  11.2.0  hc2dff05_2            main           24kB\n",
            "  \u001b[32m+ icu                                 \u001b[0m                    58.2  he6710b0_3            main           24MB\n",
            "  \u001b[32m+ importlib-metadata                  \u001b[0m                  4.11.3  py37h06a4308_0        main           41kB\n",
            "  \u001b[32m+ jpeg                                \u001b[0m                      9f  h5ce9db8_0            main          287kB\n",
            "  \u001b[32m+ kernel-headers_linux-64             \u001b[0m                  3.10.0  h57e8cba_10           main          975kB\n",
            "  \u001b[32m+ klayout                             \u001b[0m  0.28.17_212_gfa14afbbf  20240223_100318_py37  litex-hub      27MB\n",
            "  \u001b[32m+ krb5                                \u001b[0m                  1.20.1  h568e23c_1            main            1MB\n",
            "  \u001b[32m+ ld_impl_linux-64                    \u001b[0m                    2.40  h12ee557_0            main          723kB\n",
            "  \u001b[32m+ libboost                            \u001b[0m                  1.73.0  h28710b8_12           main           22MB\n",
            "  \u001b[32m+ libcurl                             \u001b[0m                   8.2.1  h91b91d3_0            main          386kB\n",
            "  \u001b[32m+ libedit                             \u001b[0m            3.1.20230828  h5eee18b_0            main          196kB\n",
            "  \u001b[32m+ libev                               \u001b[0m                    4.33  h7f8727e_1            main          109kB\n",
            "  \u001b[32m+ libffi                              \u001b[0m                   3.4.4  h6a678d5_1            main          154kB\n",
            "  \u001b[32m+ libgcc-devel_linux-64               \u001b[0m                  11.2.0  h1234567_1            main            4MB\n",
            "  \u001b[32m+ libgcc-ng                           \u001b[0m                  11.2.0  h1234567_1            main            9MB\n",
            "  \u001b[32m+ libgit2                             \u001b[0m                   1.6.4  ha637b67_0            main            1MB\n",
            "  \u001b[32m+ libglib                             \u001b[0m                  2.84.2  h37c7471_0            main            2MB\n",
            "  \u001b[32m+ libgomp                             \u001b[0m                  11.2.0  h1234567_1            main          573kB\n",
            "  \u001b[32m+ libiconv                            \u001b[0m                    1.16  h5eee18b_3            main            1MB\n",
            "  \u001b[32m+ libnghttp2                          \u001b[0m                  1.52.0  ha637b67_1            main          717kB\n",
            "  \u001b[32m+ libpng                              \u001b[0m                  1.6.39  h5eee18b_0            main          363kB\n",
            "  \u001b[32m+ libssh2                             \u001b[0m                  1.10.0  h37d81fd_2            main          312kB\n",
            "  \u001b[32m+ libstdcxx-devel_linux-64            \u001b[0m                  11.2.0  h1234567_1            main           21MB\n",
            "  \u001b[32m+ libstdcxx-ng                        \u001b[0m                  11.2.0  h1234567_1            main            6MB\n",
            "  \u001b[32m+ libuuid                             \u001b[0m                  1.41.5  h5eee18b_0            main           29kB\n",
            "  \u001b[32m+ libxcb                              \u001b[0m                  1.17.0  h9b100fa_0            main          417kB\n",
            "  \u001b[32m+ libxml2                             \u001b[0m                  2.9.14  h74e7548_0            main          789kB\n",
            "  \u001b[32m+ lz4-c                               \u001b[0m                   1.9.4  h6a678d5_1            main          164kB\n",
            "  \u001b[32m+ m4                                  \u001b[0m                  1.4.18  h4e445db_0            main          181kB\n",
            "  \u001b[32m+ magic                               \u001b[0m      8.3.464_0_gcb73ebf  20240223_100318       litex-hub       5MB\n",
            "  \u001b[32m+ ncurses                             \u001b[0m                     6.5  h7934f7d_0            main            1MB\n",
            "  \u001b[32m+ netgen                              \u001b[0m      1.5.272_0_g178af5f  20240223_100318       litex-hub     792kB\n",
            "  \u001b[32m+ open_pdks.sky130a                   \u001b[0m      1.0.471_0_g97d0844  20240223_100318       litex-hub       1GB\n",
            "  \u001b[32m+ openlane                            \u001b[0m  2023.11.03_0_gf4f8dad8  20231104_052339_py37  litex-hub      59MB\n",
            "  \u001b[32m+ openroad                            \u001b[0m    2.0_12381_g01bba3695  20240223_100318_py37  litex-hub      25MB\n",
            "  \u001b[32m+ openssl                             \u001b[0m                  1.1.1w  h7f8727e_0            main            4MB\n",
            "  \u001b[32m+ pcre2                               \u001b[0m                   10.42  hebb0a14_1            main            3MB\n",
            "  \u001b[32m+ pip                                 \u001b[0m                  22.3.1  py37h06a4308_0        main            3MB\n",
            "  \u001b[32m+ pixman                              \u001b[0m                  0.46.4  h7934f7d_0            main            2MB\n",
            "  \u001b[32m+ pthread-stubs                       \u001b[0m                     0.3  h0ce48e5_1            main            5kB\n",
            "  \u001b[32m+ python                              \u001b[0m                  3.7.16  h7a1cb2a_0            main           49MB\n",
            "  \u001b[32m+ pyyaml                              \u001b[0m                   5.3.1  py37h7b6447c_0        main          195kB\n",
            "  \u001b[32m+ qt                                  \u001b[0m                   5.9.7  h5867ecd_1            main           90MB\n",
            "  \u001b[32m+ readline                            \u001b[0m                     8.3  hc2a1206_0            main          587kB\n",
            "  \u001b[32m+ ruby                                \u001b[0m                   2.5.1  haf1161a_0            main            5MB\n",
            "  \u001b[32m+ setuptools                          \u001b[0m                  65.6.3  py37h06a4308_0        main            1MB\n",
            "  \u001b[32m+ spdlog                              \u001b[0m                   1.9.2  hd09550d_0            main          217kB\n",
            "  \u001b[32m+ sqlite                              \u001b[0m                  3.50.2  hb25bd0a_1            main            2MB\n",
            "  \u001b[32m+ sysroot_linux-64                    \u001b[0m                    2.17  h57e8cba_10           main           34MB\n",
            "  \u001b[32m+ tcllib                              \u001b[0m     1_21_150_g102aa4b6e  20240223_100318       litex-hub       2MB\n",
            "  \u001b[32m+ tk                                  \u001b[0m                  8.6.15  h54e0aa7_0            main            4MB\n",
            "  \u001b[32m+ typing_extensions                   \u001b[0m                   4.4.0  py37h06a4308_0        main           46kB\n",
            "  \u001b[32m+ verilator                           \u001b[0m      5.022_1_g881c6ee65  20240223_100318       litex-hub      87MB\n",
            "  \u001b[32m+ wheel                               \u001b[0m                  0.38.4  py37h06a4308_0        main           59kB\n",
            "  \u001b[32m+ xorg-libx11                         \u001b[0m                  1.8.12  h9b100fa_1            main          944kB\n",
            "  \u001b[32m+ xorg-libxau                         \u001b[0m                  1.0.12  h9b100fa_0            main           14kB\n",
            "  \u001b[32m+ xorg-libxdmcp                       \u001b[0m                   1.1.5  h9b100fa_0            main           20kB\n",
            "  \u001b[32m+ xorg-libxext                        \u001b[0m                   1.3.6  h9b100fa_0            main           53kB\n",
            "  \u001b[32m+ xorg-libxrender                     \u001b[0m                  0.9.12  h9b100fa_0            main           34kB\n",
            "  \u001b[32m+ xorg-xorgproto                      \u001b[0m                  2024.1  h5eee18b_1            main          573kB\n",
            "  \u001b[32m+ xz                                  \u001b[0m                   5.6.4  h5eee18b_1            main          581kB\n",
            "  \u001b[32m+ yaml                                \u001b[0m                   0.1.7  had09818_2            main           87kB\n",
            "  \u001b[32m+ yosys                               \u001b[0m      0.38_93_g84116c9a3  20240223_100318_py37  litex-hub      12MB\n",
            "  \u001b[32m+ zipp                                \u001b[0m                  3.11.0  py37h06a4308_0        main           18kB\n",
            "  \u001b[32m+ zlib                                \u001b[0m                  1.2.13  hd233ad5_2            main          127kB\n",
            "  \u001b[32m+ zstd                                \u001b[0m                   1.5.6  hc292b87_0            main            1MB\n",
            "\n",
            "  Summary:\n",
            "\n",
            "  Install: 94 packages\n",
            "\n",
            "  Total download: 2GB\n",
            "\n",
            "─────────────────────────────────────────────────────────────────────────────────────────────────────────────\n",
            "\n",
            "\n",
            "\n",
            "Transaction starting\n",
            "Linking open_pdks.sky130a-1.0.471_0_g97d0844-20240223_100318\n",
            "Linking _libgcc_mutex-0.1-main\n",
            "Linking libstdcxx-ng-11.2.0-h1234567_1\n",
            "Linking ld_impl_linux-64-2.40-h12ee557_0\n",
            "Linking ca-certificates-2025.9.9-h06a4308_0\n",
            "Linking libstdcxx-devel_linux-64-11.2.0-h1234567_1\n",
            "Linking libgcc-devel_linux-64-11.2.0-h1234567_1\n",
            "Linking libgomp-11.2.0-h1234567_1\n",
            "Linking _openmp_mutex-5.1-1_gnu\n",
            "Linking libgcc-ng-11.2.0-h1234567_1\n",
            "Linking yaml-0.1.7-had09818_2\n",
            "Linking gmp-6.3.0-h6a678d5_0\n",
            "Linking lz4-c-1.9.4-h6a678d5_1\n",
            "Linking libev-4.33-h7f8727e_1\n",
            "Linking c-ares-1.34.5-hef5626c_0\n",
            "Linking libiconv-1.16-h5eee18b_3\n",
            "Linking xorg-xorgproto-2024.1-h5eee18b_1\n",
            "Linking bzip2-1.0.8-h5eee18b_6\n",
            "Linking xz-5.6.4-h5eee18b_1\n",
            "Linking openssl-1.1.1w-h7f8727e_0\n",
            "Linking jpeg-9f-h5ce9db8_0\n",
            "Linking icu-58.2-he6710b0_3\n",
            "Linking libuuid-1.41.5-h5eee18b_0\n",
            "Linking expat-2.7.1-h6a678d5_0\n",
            "Linking xorg-libxdmcp-1.1.5-h9b100fa_0\n",
            "Linking xorg-libxau-1.0.12-h9b100fa_0\n",
            "Linking pthread-stubs-0.3-h0ce48e5_1\n",
            "Linking pixman-0.46.4-h7934f7d_0\n",
            "Linking fmt-8.1.1-hd09550d_1\n",
            "Linking ncurses-6.5-h7934f7d_0\n",
            "Linking zlib-1.2.13-hd233ad5_2\n",
            "Linking libffi-3.4.4-h6a678d5_1\n",
            "Linking m4-1.4.18-h4e445db_0\n",
            "Linking libssh2-1.10.0-h37d81fd_2\n",
            "Linking libxcb-1.17.0-h9b100fa_0\n",
            "Linking spdlog-1.9.2-hd09550d_0\n",
            "Linking libedit-3.1.20230828-h5eee18b_0\n",
            "Linking readline-8.3-hc2a1206_0\n",
            "Linking libnghttp2-1.52.0-ha637b67_1\n",
            "Linking pcre2-10.42-hebb0a14_1\n",
            "Linking zstd-1.5.6-hc292b87_0\n",
            "Linking libxml2-2.9.14-h74e7548_0\n",
            "Linking libpng-1.6.39-h5eee18b_0\n",
            "Linking flex-2.6.4-ha10e3a4_1\n",
            "Linking xorg-libx11-1.8.12-h9b100fa_1\n",
            "Linking krb5-1.20.1-h568e23c_1\n",
            "Linking sqlite-3.50.2-hb25bd0a_1\n",
            "Linking libglib-2.84.2-h37c7471_0\n",
            "Linking libboost-1.73.0-h28710b8_12\n",
            "Linking freetype-2.13.3-h4a9f257_0\n",
            "Linking bison-3.7.5-h2531618_1\n",
            "Linking dbus-1.16.2-h5bd4931_0\n",
            "Linking xorg-libxrender-0.9.12-h9b100fa_0\n",
            "Linking xorg-libxext-1.3.6-h9b100fa_0\n",
            "Linking tk-8.6.15-h54e0aa7_0\n",
            "Linking libcurl-8.2.1-h91b91d3_0\n",
            "Linking glib-tools-2.84.2-h6a678d5_0\n",
            "Linking fontconfig-2.14.1-h52c9d5c_1\n",
            "Linking ruby-2.5.1-haf1161a_0\n",
            "Linking python-3.7.16-h7a1cb2a_0\n",
            "Linking wheel-0.38.4-py37h06a4308_0\n",
            "Linking curl-8.2.1-h37d81fd_0\n",
            "Linking cairo-1.18.4-h44eff21_0\n",
            "Linking certifi-2022.12.7-py37h06a4308_0\n",
            "Linking libgit2-1.6.4-ha637b67_0\n",
            "Linking setuptools-65.6.3-py37h06a4308_0\n",
            "Linking pip-22.3.1-py37h06a4308_0\n",
            "Linking pyyaml-5.3.1-py37h7b6447c_0\n",
            "Linking zipp-3.11.0-py37h06a4308_0\n",
            "Linking glib-2.84.2-h6a678d5_0\n",
            "Linking gstreamer-1.14.1-h5eee18b_1\n",
            "Linking gst-plugins-base-1.14.1-h6a678d5_1\n",
            "Linking qt-5.9.7-h5867ecd_1\n",
            "Linking _sysroot_linux-64_curr_repodata_hack-3-haa98f57_10\n",
            "Linking flit-core-3.6.0-pyhd3eb1b0_0\n",
            "Linking kernel-headers_linux-64-3.10.0-h57e8cba_10\n",
            "Linking sysroot_linux-64-2.17-h57e8cba_10\n",
            "Linking tcllib-1_21_150_g102aa4b6e-20240223_100318\n",
            "Linking netgen-1.5.272_0_g178af5f-20240223_100318\n",
            "Linking magic-8.3.464_0_gcb73ebf-20240223_100318\n",
            "Linking yosys-0.38_93_g84116c9a3-20240223_100318_py37\n",
            "Linking openroad-2.0_12381_g01bba3695-20240223_100318_py37\n",
            "Linking klayout-0.28.17_212_gfa14afbbf-20240223_100318_py37\n",
            "Linking typing_extensions-4.4.0-py37h06a4308_0\n",
            "Linking binutils_impl_linux-64-2.40-h5293946_0\n",
            "\u001b[33m\u001b[1mwarning  libmamba\u001b[m [binutils_impl_linux-64-2.40-h5293946_0] The following files were already present in the environment:\n",
            "    - lib/liblsan.so\n",
            "    - lib/liblsan.so.0\n",
            "    - lib/liblsan.so.0.0.0\n",
            "    - share/info/libgomp.info\n",
            "    - share/info/libquadmath.info\n",
            "    - share/licenses/gcc-libs/RUNTIME.LIBRARY.EXCEPTION\n",
            "    - share/licenses/gcc-libs/RUNTIME.LIBRARY.EXCEPTION.gomp_copy\n",
            "    - share/licenses/libstdc++/RUNTIME.LIBRARY.EXCEPTION\n",
            "Linking importlib-metadata-4.11.3-py37h06a4308_0\n",
            "Linking gcc_impl_linux-64-11.2.0-h1234567_1\n",
            "Linking binutils_linux-64-2.40.0-hc2dff05_2\n",
            "Linking click-8.0.4-py37h06a4308_0\n",
            "Linking gxx_impl_linux-64-11.2.0-h1234567_1\n",
            "Linking gcc_linux-64-11.2.0-h5c386dc_2\n",
            "Linking gxx_linux-64-11.2.0-hc2dff05_2\n",
            "Linking verilator-5.022_1_g881c6ee65-20240223_100318\n",
            "Linking openlane-2023.11.03_0_gf4f8dad8-20231104_052339_py37\n",
            "\n",
            "Transaction finished\n",
            "\n",
            "Collecting gdstk\n",
            "  Downloading gdstk-0.9.61-cp312-cp312-manylinux_2_28_x86_64.whl.metadata (8.8 kB)\n",
            "Requirement already satisfied: numpy in /usr/local/lib/python3.12/dist-packages (from gdstk) (2.0.2)\n",
            "Downloading gdstk-0.9.61-cp312-cp312-manylinux_2_28_x86_64.whl (535 kB)\n",
            "\u001b[2K   \u001b[90m━━━━━━━━━━━━━━━━━━━━━━━━━━━━━━━━━━━━━━━━\u001b[0m \u001b[32m535.7/535.7 kB\u001b[0m \u001b[31m6.8 MB/s\u001b[0m eta \u001b[36m0:00:00\u001b[0m\n",
            "\u001b[?25hInstalling collected packages: gdstk\n",
            "Successfully installed gdstk-0.9.61\n",
            "env: CONDA_PREFIX=/content/conda-env\n",
            "env: PATH=/content/conda-env/bin:/opt/bin:/usr/local/nvidia/bin:/usr/local/cuda/bin:/usr/local/sbin:/usr/local/bin:/usr/sbin:/usr/bin:/sbin:/bin:/tools/node/bin:/tools/google-cloud-sdk/bin\n"
          ]
        }
      ],
      "source": [
        "#@title Install dependencies {display-mode: \"form\"}\n",
        "#@markdown - Click the ▷ button to setup the digital design environment based on [conda-eda](https://github.com/hdl/conda-eda).\n",
        "\n",
        "openlane_version = 'latest' #@param {type:\"string\"}\n",
        "open_pdks_version = 'latest' #@param {type:\"string\"}\n",
        "\n",
        "if openlane_version == 'latest':\n",
        "  openlane_version = ''\n",
        "if open_pdks_version == 'latest':\n",
        "  open_pdks_version = ''\n",
        "\n",
        "import os\n",
        "import pathlib\n",
        "\n",
        "!curl -Ls https://micro.mamba.pm/api/micromamba/linux-64/latest | tar -xj bin/micromamba\n",
        "conda_prefix_path = pathlib.Path('conda-env')\n",
        "CONDA_PREFIX = str(conda_prefix_path.resolve())\n",
        "!bin/micromamba create --yes --prefix $CONDA_PREFIX\n",
        "!echo 'python ==3.7*' >> {CONDA_PREFIX}/conda-meta/pinned\n",
        "!CI=0 bin/micromamba install --yes --prefix $CONDA_PREFIX \\\n",
        "                     --channel litex-hub \\\n",
        "                     --channel main \\\n",
        "                     openlane={openlane_version} \\\n",
        "                     open_pdks.sky130a={open_pdks_version}\n",
        "!python -m pip install gdstk gdstk\n",
        "PATH = os.environ['PATH']\n",
        "%env CONDA_PREFIX={CONDA_PREFIX}\n",
        "%env PATH={CONDA_PREFIX}/bin:{PATH}\n"
      ]
    },
    {
      "cell_type": "markdown",
      "metadata": {
        "id": "uINjDJNf39eD"
      },
      "source": [
        "## Write verilog"
      ]
    },
    {
      "cell_type": "code",
      "execution_count": 2,
      "metadata": {
        "id": "gpgkIYB739Ii",
        "outputId": "198ef144-55eb-41b9-b650-4e1438a565bf",
        "colab": {
          "base_uri": "https://localhost:8080/"
        }
      },
      "outputs": [
        {
          "output_type": "stream",
          "name": "stdout",
          "text": [
            "Writing inverter.v\n"
          ]
        }
      ],
      "source": [
        "%%writefile inverter.v\n",
        "module inverter(input wire in, output wire out);\n",
        "    assign out = !in;\n",
        "endmodule"
      ]
    },
    {
      "cell_type": "markdown",
      "metadata": {
        "id": "hp8h5vH8TUXr"
      },
      "source": [
        "## Write configuration\n",
        "\n",
        "[Documentation](https://openlane.readthedocs.io/en/latest/reference/configuration.html)"
      ]
    },
    {
      "cell_type": "code",
      "source": [
        "%%writefile config.json\n",
        "{\n",
        "    \"DESIGN_NAME\": \"inverter\",\n",
        "    \"VERILOG_FILES\": \"dir::inverter.v\",\n",
        "    \"CLOCK_PORT\": \"clk\",\n",
        "    \"CLOCK_PERIOD\": 10.0,\n",
        "    \"DESIGN_IS_CORE\": true,\n",
        "    \"PL_RANDOM_GLB_PLACEMENT\": true,\n",
        "    \"FP_SIZING\": \"absolute\",\n",
        "    \"DIE_AREA\": \"0 0 34.5 57.12\",\n",
        "    \"PL_TARGET_DENSITY\": 0.75,\n",
        "    \"FP_PDN_AUTO_ADJUST\": false,\n",
        "    \"FP_PDN_VPITCH\": 25,\n",
        "    \"FP_PDN_HPITCH\": 25,\n",
        "    \"FP_PDN_VOFFSET\": 5,\n",
        "    \"FP_PDN_HOFFSET\": 5,\n",
        "    \"DIODE_INSERTION_STRATEGY\": 3\n",
        "}"
      ],
      "metadata": {
        "id": "rbT-vP0h0enK",
        "outputId": "94562ce0-6eb3-44ee-a815-37a674c8e444",
        "colab": {
          "base_uri": "https://localhost:8080/"
        }
      },
      "execution_count": 10,
      "outputs": [
        {
          "output_type": "stream",
          "name": "stdout",
          "text": [
            "Overwriting config.json\n"
          ]
        }
      ]
    },
    {
      "cell_type": "markdown",
      "metadata": {
        "id": "Nrt1yS_u1_m4",
        "jp-MarkdownHeadingCollapsed": true,
        "tags": []
      },
      "source": [
        "## Run OpenLane Flow\n",
        "\n",
        "[OpenLane](https://openlane.readthedocs.io/en/latest/) is an automated [RTL](https://en.wikipedia.org/wiki/Register-transfer_level) to [GDSII](https://en.wikipedia.org/wiki/GDSII) flow based on several components including [OpenROAD](https://theopenroadproject.org/), [Yosys](https://yosyshq.net/yosys/), [Magic](http://www.opencircuitdesign.com/magic/), [Netgen](http://opencircuitdesign.com/netgen/) and custom methodology scripts for design exploration and optimization targeting [open source PDKs](https://github.com/google/open-source-pdks).\n",
        "\n",
        "![img](https://openlane.readthedocs.io/en/latest/_images/flow_v1.png)"
      ]
    },
    {
      "cell_type": "code",
      "execution_count": 11,
      "metadata": {
        "colab": {
          "base_uri": "https://localhost:8080/"
        },
        "id": "VP60fdObiP15",
        "outputId": "2aae2b00-f3b7-4d5c-cab4-7982c5235d37"
      },
      "outputs": [
        {
          "output_type": "stream",
          "name": "stdout",
          "text": [
            "env: PDK=sky130A\n",
            "OpenLane 2023.11.03_0_gf4f8dad8-conda\n",
            "All rights reserved. (c) 2020-2022 Efabless Corporation and contributors.\n",
            "Available under the Apache License, version 2.0. See the LICENSE file for more details.\n",
            "\n",
            "\u001b[36m[INFO]: Using configuration in 'config.json'...\u001b[39m\n",
            "\u001b[36m[INFO]: PDK Root: /content/conda-env/share/pdk\u001b[39m\n",
            "\u001b[36m[INFO]: Process Design Kit: sky130A\u001b[39m\n",
            "\u001b[36m[INFO]: Standard Cell Library: sky130_fd_sc_hd\u001b[39m\n",
            "\u001b[36m[INFO]: Optimization Standard Cell Library: sky130_fd_sc_hd\u001b[39m\n",
            "\u001b[33m[WARNING]: DIODE_INSERTION_STRATEGY is now deprecated; use GRT_REPAIR_ANTENNAS, DIODE_ON_PORTS and RUN_HEURISTIC_DIODE_INSERTION instead.\u001b[39m\n",
            "\u001b[36m[INFO]: DIODE_INSERTION_STRATEGY set to 3. Setting GRT_REPAIR_ANTENNAS to 1\u001b[39m\n",
            "\u001b[33m[WARNING]: CLOCK_TREE_SYNTH is now deprecated; use RUN_CTS instead.\u001b[39m\n",
            "\u001b[31m[ERROR]: Conflicting values of RUN_CTS and CLOCK_TREE_SYNTH; please remove CLOCK_TREE_SYNTH from your design configurations\u001b[39m\n",
            "\n",
            "    while executing\n",
            "\"throw_error\"\n",
            "    (procedure \"handle_deprecated_config\" line 10)\n",
            "    invoked from within\n",
            "\"handle_deprecated_config CLOCK_TREE_SYNTH RUN_CTS\"\n",
            "    (procedure \"prep\" line 227)\n",
            "    invoked from within\n",
            "\"prep {*}$args\"\n",
            "    (procedure \"run_non_interactive_mode\" line 22)\n",
            "    invoked from within\n",
            "\"run_non_interactive_mode {*}$argv\"\n",
            "    (file \"/content/conda-env/share/openlane/flow.tcl\" line 416)\n",
            "    invoked from within\n",
            "\"source \"$::env(CONDA_PREFIX)/share/openlane/flow.tcl\"\"\n",
            "    (file \"/content/conda-env/bin/flow.tcl\" line 2)\n"
          ]
        }
      ],
      "source": [
        "%env PDK=sky130A\n",
        "!flow.tcl -design ."
      ]
    },
    {
      "cell_type": "markdown",
      "metadata": {
        "id": "luguFgZ43AeL"
      },
      "source": [
        "## Display layout"
      ]
    },
    {
      "cell_type": "code",
      "execution_count": 5,
      "metadata": {
        "colab": {
          "base_uri": "https://localhost:8080/",
          "height": 211
        },
        "id": "WOnhdtp3ivRi",
        "outputId": "4db87caa-d3a5-404b-ff11-fe4ecb4f94f4"
      },
      "outputs": [
        {
          "output_type": "error",
          "ename": "IndexError",
          "evalue": "list index out of range",
          "traceback": [
            "\u001b[0;31m---------------------------------------------------------------------------\u001b[0m",
            "\u001b[0;31mIndexError\u001b[0m                                Traceback (most recent call last)",
            "\u001b[0;32m/tmp/ipython-input-3094709952.py\u001b[0m in \u001b[0;36m<cell line: 0>\u001b[0;34m()\u001b[0m\n\u001b[1;32m      4\u001b[0m \u001b[0;34m\u001b[0m\u001b[0m\n\u001b[1;32m      5\u001b[0m \u001b[0mgdss\u001b[0m \u001b[0;34m=\u001b[0m \u001b[0msorted\u001b[0m\u001b[0;34m(\u001b[0m\u001b[0mpathlib\u001b[0m\u001b[0;34m.\u001b[0m\u001b[0mPath\u001b[0m\u001b[0;34m(\u001b[0m\u001b[0;34m'runs'\u001b[0m\u001b[0;34m)\u001b[0m\u001b[0;34m.\u001b[0m\u001b[0mglob\u001b[0m\u001b[0;34m(\u001b[0m\u001b[0;34m'*/results/final/gds/*.gds'\u001b[0m\u001b[0;34m)\u001b[0m\u001b[0;34m)\u001b[0m\u001b[0;34m\u001b[0m\u001b[0;34m\u001b[0m\u001b[0m\n\u001b[0;32m----> 6\u001b[0;31m \u001b[0mlibrary\u001b[0m \u001b[0;34m=\u001b[0m \u001b[0mgdstk\u001b[0m\u001b[0;34m.\u001b[0m\u001b[0mread_gds\u001b[0m\u001b[0;34m(\u001b[0m\u001b[0mgdss\u001b[0m\u001b[0;34m[\u001b[0m\u001b[0;34m-\u001b[0m\u001b[0;36m1\u001b[0m\u001b[0;34m]\u001b[0m\u001b[0;34m)\u001b[0m\u001b[0;34m\u001b[0m\u001b[0;34m\u001b[0m\u001b[0m\n\u001b[0m\u001b[1;32m      7\u001b[0m \u001b[0mtop_cells\u001b[0m \u001b[0;34m=\u001b[0m \u001b[0mlibrary\u001b[0m\u001b[0;34m.\u001b[0m\u001b[0mtop_level\u001b[0m\u001b[0;34m(\u001b[0m\u001b[0;34m)\u001b[0m\u001b[0;34m\u001b[0m\u001b[0;34m\u001b[0m\u001b[0m\n\u001b[1;32m      8\u001b[0m \u001b[0mtop_cells\u001b[0m\u001b[0;34m[\u001b[0m\u001b[0;36m0\u001b[0m\u001b[0;34m]\u001b[0m\u001b[0;34m.\u001b[0m\u001b[0mwrite_svg\u001b[0m\u001b[0;34m(\u001b[0m\u001b[0;34m'inverter.svg'\u001b[0m\u001b[0;34m)\u001b[0m\u001b[0;34m\u001b[0m\u001b[0;34m\u001b[0m\u001b[0m\n",
            "\u001b[0;31mIndexError\u001b[0m: list index out of range"
          ]
        }
      ],
      "source": [
        "import pathlib\n",
        "import gdstk\n",
        "import IPython.display\n",
        "\n",
        "gdss = sorted(pathlib.Path('runs').glob('*/results/final/gds/*.gds'))\n",
        "library = gdstk.read_gds(gdss[-1])\n",
        "top_cells = library.top_level()\n",
        "top_cells[0].write_svg('inverter.svg')\n",
        "IPython.display.SVG('inverter.svg')"
      ]
    },
    {
      "cell_type": "markdown",
      "metadata": {
        "id": "NW_7YdgTZYQK"
      },
      "source": [
        "## Metrics\n",
        "\n",
        "[Documentation](https://openlane.readthedocs.io/en/latest/reference/datapoint_definitions.html)\n"
      ]
    },
    {
      "cell_type": "code",
      "execution_count": null,
      "metadata": {
        "id": "OWAwQI3fZC4W"
      },
      "outputs": [],
      "source": [
        "import pandas as pd\n",
        "import pathlib\n",
        "\n",
        "pd.options.display.max_rows = None\n",
        "reports = sorted(pathlib.Path('runs').glob('*/reports/metrics.csv'))\n",
        "df = pd.read_csv(reports[-1])\n",
        "df.transpose()"
      ]
    }
  ],
  "metadata": {
    "colab": {
      "name": "digital-inverter-openlane.ipynb",
      "provenance": [],
      "include_colab_link": true
    },
    "kernelspec": {
      "display_name": "Python 3 (ipykernel)",
      "language": "python",
      "name": "python3"
    },
    "language_info": {
      "codemirror_mode": {
        "name": "ipython",
        "version": 3
      },
      "file_extension": ".py",
      "mimetype": "text/x-python",
      "name": "python",
      "nbconvert_exporter": "python",
      "pygments_lexer": "ipython3",
      "version": "3.7.10"
    }
  },
  "nbformat": 4,
  "nbformat_minor": 0
}